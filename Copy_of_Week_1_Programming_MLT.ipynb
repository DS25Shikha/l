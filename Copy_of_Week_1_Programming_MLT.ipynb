{
  "nbformat": 4,
  "nbformat_minor": 0,
  "metadata": {
    "colab": {
      "provenance": [],
      "include_colab_link": true
    },
    "kernelspec": {
      "name": "python3",
      "display_name": "Python 3"
    },
    "language_info": {
      "name": "python"
    },
    "gpuClass": "standard"
  },
  "cells": [
    {
      "cell_type": "markdown",
      "metadata": {
        "id": "view-in-github",
        "colab_type": "text"
      },
      "source": [
        "<a href=\"https://colab.research.google.com/github/DS25Shikha/l/blob/main/Copy_of_Week_1_Programming_MLT.ipynb\" target=\"_parent\"><img src=\"https://colab.research.google.com/assets/colab-badge.svg\" alt=\"Open In Colab\"/></a>"
      ]
    },
    {
      "cell_type": "markdown",
      "source": [
        "## Dataset\n",
        "\n",
        "We will be working with a subset of the [MNIST dataset](https://en.wikipedia.org/wiki/MNIST_database). Run the cell given below to generate the data-matrix $\\mathbf{X}$, which is of shape $(n, d)$, where $n$ denotes the number of samples and $d$ denotes the number of features. You will be using this dataset for the rest of the assignment. Do not edit this cell."
      ],
      "metadata": {
        "id": "I3DzbeU33QxN"
      }
    },
    {
      "cell_type": "code",
      "source": [
        "##### DATASET GENERATION #####\n",
        "import numpy as np\n",
        "from keras.datasets import mnist\n",
        "(X_train, y_train), (X_test, y_test) = mnist.load_data()\n",
        "X = X_train[y_train == 2][: 100].reshape(-1, 28 * 28).T\n",
        "test_image = X_test[y_test == 2][0].reshape(28 * 28)\n",
        "##### DO NOT EDIT THIS CELL #####"
      ],
      "metadata": {
        "id": "uOBXmnyg3ZFH"
      },
      "execution_count": 13,
      "outputs": []
    },
    {
      "cell_type": "code",
      "source": [
        "import matplotlib.pyplot as plt\n",
        "img = X[:,0].reshape(28, 28)\n",
        "plt.imshow(img, cmap = 'gray');\n"
      ],
      "metadata": {
        "colab": {
          "base_uri": "https://localhost:8080/",
          "height": 430
        },
        "id": "NOi1eHM58z_y",
        "outputId": "ec815057-c4fb-4500-923b-f43423273c40"
      },
      "execution_count": 14,
      "outputs": [
        {
          "output_type": "display_data",
          "data": {
            "text/plain": [
              "<Figure size 640x480 with 1 Axes>"
            ],
            "image/png": "[encoded data removed]"
          },
          "metadata": {}
        }
      ]
    },
    {
      "cell_type": "code",
      "source": [
        "def center(X):\n",
        "  return X - X.mean(axis=1).reshape(-1,1)\n",
        "\n",
        "  d, n =X.shape\n",
        "  X_prime = center(X)"
      ],
      "metadata": {
        "id": "8E2Oruqf9ux5"
      },
      "execution_count": 15,
      "outputs": []
    },
    {
      "cell_type": "code",
      "source": [
        "def covariance(X):\n",
        "  return X @ X.T / X.shape[1]\n",
        "X_prime = center(X)\n",
        "C = covariance(X_prime)"
      ],
      "metadata": {
        "id": "1g8L8xVt-jTY"
      },
      "execution_count": 24,
      "outputs": []
    },
    {
      "cell_type": "code",
      "source": [
        "def compute_pc(C):\n",
        "  d = C.shape[0]\n",
        "  eigval , eigvec = np.linalg.eigh(C)\n",
        "  w_1,w_2 = eigvec[:, -1],eigvec[:, -2]\n",
        "  return w_1,w_2\n",
        "\n"
      ],
      "metadata": {
        "id": "eLsEP8k8_aYB"
      },
      "execution_count": 27,
      "outputs": []
    },
    {
      "cell_type": "code",
      "source": [
        "d = C.shape[0]\n",
        "eigval , eigvec = np.linalg.eigh(C)\n",
        "w_1,w_2 = eigvec[:, -1],eigvec[:, -2]\n",
        "w_1_image = w_1.reshape(28,28)\n",
        "plt.imshow(w_1_image, cmap = 'gray')"
      ],
      "metadata": {
        "colab": {
          "base_uri": "https://localhost:8080/",
          "height": 447
        },
        "id": "-Md3lMWDAKj_",
        "outputId": "9338901e-86db-4977-f18a-9a35e0f9425d"
      },
      "execution_count": 29,
      "outputs": [
        {
          "output_type": "execute_result",
          "data": {
            "text/plain": [
              "<matplotlib.image.AxesImage at 0x7d0fbcad4be0>"
            ]
          },
          "metadata": {},
          "execution_count": 29
        },
        {
          "output_type": "display_data",
          "data": {
            "text/plain": [
              "<Figure size 640x480 with 1 Axes>"
            ],
            "image/png": "[encoded data removed]"
          },
          "metadata": {}
        }
      ]
    },
    {
      "cell_type": "code",
      "source": [
        "import numpy as np\n",
        "import matplotlib.pyplot as plt\n",
        "from keras.datasets import mnist\n",
        "\n",
        "# Load MNIST data\n",
        "(X_train, y_train), (X_test, y_test) = mnist.load_data()\n",
        "\n",
        "# Select images of digit \"2\"\n",
        "X = X_train[y_train == 2][:100].reshape(-1, 28 * 28).T\n",
        "test_image = X_test[y_test == 2][0].reshape(28 * 28)\n",
        "\n",
        "def center(X):\n",
        "    \"\"\"Center the data by subtracting the mean.\"\"\"\n",
        "    return X - X.mean(axis=1, keepdims=True)\n",
        "\n",
        "def covariance(X):\n",
        "    \"\"\"Calculate the covariance matrix.\"\"\"\n",
        "    return X @ X.T / X.shape[1]\n",
        "\n",
        "def compute_pc(C):\n",
        "    \"\"\"Compute the principal components.\"\"\"\n",
        "    eigval, eigvec = np.linalg.eigh(C)\n",
        "    return eigvec[:, -2:], eigval  # Return the last two eigenvectors and eigenvalues\n",
        "\n",
        "# Center the data and calculate covariance\n",
        "X_prime = center(X)\n",
        "C = covariance(X_prime)\n",
        "\n",
        "def reconstruction(C, test_image, thresh):\n",
        "    \"\"\"Reconstruct the image from PCA components based on the variance threshold.\"\"\"\n",
        "    eigval, eigvec = np.linalg.eigh(C)\n",
        "    eigval = np.flip(eigval)  # Reverse the order\n",
        "    total_variance = np.sum(eigval)\n",
        "\n",
        "    # Determine the number of components to keep based on the threshold\n",
        "    K = np.searchsorted(np.cumsum(eigval) / total_variance, thresh) + 1\n",
        "\n",
        "    # Select the top K eigenvectors\n",
        "    W = eigvec[:, -K:]  # Take the last K eigenvectors\n",
        "    coeff = W.T @ (test_image - test_image.mean())  # Compute coefficients\n",
        "    return W @ coeff + test_image.mean()  # Reconstruct image and add mean back\n",
        "\n",
        "# Plot the reconstructed images\n",
        "plt.figure(figsize=(20, 20))\n",
        "\n",
        "# Reconstruct and plot for different variance thresholds\n",
        "thresholds = [0.20, 0.50, 0.80, 0.95]\n",
        "for i, thresh in enumerate(thresholds):\n",
        "    recon_image = reconstruction(C, test_image, thresh)\n",
        "    plt.subplot(1, 5, i + 1)\n",
        "    plt.imshow(recon_image.reshape(28, 28), cmap='gray')\n",
        "    plt.title(f\"Variance covered = {int(thresh * 100)}%\")\n",
        "    plt.axis('off')\n",
        "\n",
        "# Display the original test image\n",
        "plt.subplot(1, 5, 5)\n",
        "plt.imshow(test_image.reshape(28, 28), cmap='gray')\n",
        "plt.title(\"Test Image\")\n",
        "plt.axis('off')\n",
        "\n",
        "plt.show()\n"
      ],
      "metadata": {
        "colab": {
          "base_uri": "https://localhost:8080/",
          "height": 144
        },
        "id": "OV-2oLXdAB7v",
        "outputId": "b39b93e0-d4c5-43e7-c2e6-530677d99899"
      },
      "execution_count": 51,
      "outputs": [
        {
          "output_type": "display_data",
          "data": {
            "text/plain": [
              "<Figure size 2000x2000 with 5 Axes>"
            ],
            "image/png": "[encoded data removed]"
          },
          "metadata": {}
        }
      ]
    },
    {
      "cell_type": "markdown",
      "source": [
        "## Problem-1\n",
        "\n",
        "How many samples does the dataset have?"
      ],
      "metadata": {
        "id": "5RyvzK8z4o47"
      }
    },
    {
      "cell_type": "markdown",
      "source": [],
      "metadata": {
        "id": "I5wwsoIQGoKa"
      }
    },
    {
      "cell_type": "code",
      "source": [],
      "metadata": {
        "id": "B47gb71L8OSr"
      },
      "execution_count": null,
      "outputs": []
    },
    {
      "cell_type": "markdown",
      "source": [
        "## Problem-2\n",
        "\n",
        "How many features does the dataset have?"
      ],
      "metadata": {
        "id": "UrmLi2sK4ynX"
      }
    },
    {
      "cell_type": "code",
      "source": [
        "import numpy as np\n",
        "from keras.datasets import mnist\n",
        "\n",
        "(X_train, y_train), (X_test, y_test) = mnist.load_data()\n",
        "\n",
        "num_train_samples = X_train.shape[0]\n",
        "num_test_samples = X_test.shape[0]\n",
        "num_features = X_train.shape[1] * X_train.shape[2]\n",
        "\n",
        "print(f\"Number of training samples: {num_train_samples}\")\n",
        "print(f\"Number of test samples: {num_test_samples}\")\n",
        "print(f\"Number of features: {num_features}\")\n"
      ],
      "metadata": {
        "colab": {
          "base_uri": "https://localhost:8080/"
        },
        "id": "6B1P5UZ4GlAq",
        "outputId": "217d1db0-edb4-497a-d595-d8c45c3b73a0"
      },
      "execution_count": 32,
      "outputs": [
        {
          "output_type": "stream",
          "name": "stdout",
          "text": [
            "Number of training samples: 60000\n",
            "Number of test samples: 10000\n",
            "Number of features: 784\n"
          ]
        }
      ]
    },
    {
      "cell_type": "code",
      "source": [
        "import numpy as np\n",
        "from keras.datasets import mnist\n",
        "\n",
        "(X_train, y_train), (X_test, y_test) = mnist.load_data()\n",
        "\n",
        "X = X_train[y_train == 2][:100].reshape(-1, 28 * 28).T  # 100 samples of digit '2'\n",
        "d, n = X.shape\n",
        "\n",
        "print(f\"d (number of features): {d}\")\n",
        "print(f\"n (number of samples): {n}\")\n"
      ],
      "metadata": {
        "colab": {
          "base_uri": "https://localhost:8080/"
        },
        "id": "6HBTKNqhG4TE",
        "outputId": "5490f77c-6483-4d29-d28d-3f900f96c54b"
      },
      "execution_count": 33,
      "outputs": [
        {
          "output_type": "stream",
          "name": "stdout",
          "text": [
            "d (number of features): 784\n",
            "n (number of samples): 100\n"
          ]
        }
      ]
    },
    {
      "cell_type": "code",
      "source": [
        "# Enter your solution here"
      ],
      "metadata": {
        "id": "WQ75O4D141R0"
      },
      "execution_count": null,
      "outputs": []
    },
    {
      "cell_type": "markdown",
      "source": [
        "## Problem-3\n",
        "\n",
        "Each sample corresponds to an image of dimension $28 \\times 28$. Visualize one of these images using the `matplotlib` library.\n",
        "\n",
        "- You need to know how to reshape a feature vector. Refer to week-0 content for the same.\n",
        "- You can refer to the following [document](https://matplotlib.org/stable/tutorials/introductory/images.html#sphx-glr-tutorials-introductory-images-py) for plotting NumPy arrays as images using `matplotlib`."
      ],
      "metadata": {
        "id": "BPUFxtI55G2h"
      }
    },
    {
      "cell_type": "code",
      "source": [
        "import numpy as np\n",
        "import matplotlib.pyplot as plt\n",
        "from keras.datasets import mnist\n",
        "\n",
        "# Load the MNIST dataset\n",
        "(X_train, y_train), (X_test, y_test) = mnist.load_data()\n",
        "\n",
        "# Select one image of the digit '2' from the training set\n",
        "image_index = 0  # Index of the image you want to visualize\n",
        "sample_image = X_train[y_train == 2][image_index]  # Get the first '2' image\n",
        "\n",
        "# Visualize the image\n",
        "plt.imshow(sample_image, cmap='gray')\n",
        "plt.title(\"Image of Digit '2'\")\n",
        "plt.axis('off')  # Hide axis\n",
        "plt.show()\n"
      ],
      "metadata": {
        "colab": {
          "base_uri": "https://localhost:8080/",
          "height": 428
        },
        "id": "RSbMFoKKHKEl",
        "outputId": "884a9585-3603-41bc-a904-b5221f5a9602"
      },
      "execution_count": 34,
      "outputs": [
        {
          "output_type": "display_data",
          "data": {
            "text/plain": [
              "<Figure size 640x480 with 1 Axes>"
            ],
            "image/png": "[encoded data removed]"
          },
          "metadata": {}
        }
      ]
    },
    {
      "cell_type": "markdown",
      "source": [
        "## Problem-4\n",
        "\n",
        "Center the the dataset $\\mathbf{X}$ around its mean. Call this centered dataset $\\mathbf{X}^{\\prime}$.\n",
        "\n",
        "<u>Conversion</u>\n",
        "\n",
        "Enter the following quantity as your answer correct to two decimal places:\n",
        "\n",
        "$$\n",
        "\\cfrac{1}{n \\cdot d} \\sqrt{\\sum \\limits_{i = 1}^{n} \\sum \\limits_{j = 1}^{d} (X_{ij}^{\\prime})^2}\n",
        "$$"
      ],
      "metadata": {
        "id": "8e2xflo8FF8K"
      }
    },
    {
      "cell_type": "code",
      "source": [
        "import numpy as np\n",
        "from keras.datasets import mnist\n",
        "\n",
        "# Load the MNIST dataset\n",
        "(X_train, y_train), (X_test, y_test) = mnist.load_data()\n",
        "\n",
        "# Select images of digit '2'\n",
        "X = X_train[y_train == 2][:100].reshape(-1, 28 * 28)  # Reshape to (100, 784)\n",
        "\n",
        "# Center the dataset around its mean\n",
        "X_prime = X - X.mean(axis=0)\n",
        "\n",
        "# Get the number of samples (n) and features (d)\n",
        "n, d = X_prime.shape\n",
        "\n",
        "# Compute the sum of squares of the centered dataset\n",
        "sum_of_squares = np.sum(X_prime**2)\n",
        "\n",
        "# Calculate the final result as (1 / (n * d)) * sqrt(sum of squares)\n",
        "result = (1 / (n * d)) * np.sqrt(sum_of_squares)\n",
        "\n",
        "# Print the result rounded to two decimal places\n",
        "print(f\"{result:.2f}\")\n"
      ],
      "metadata": {
        "colab": {
          "base_uri": "https://localhost:8080/"
        },
        "id": "4dKPh_JNKd9m",
        "outputId": "a44bbe6f-6f3e-4a01-8f7c-5a0bf1ab05d0"
      },
      "execution_count": 43,
      "outputs": [
        {
          "output_type": "stream",
          "name": "stdout",
          "text": [
            "0.23\n"
          ]
        }
      ]
    },
    {
      "cell_type": "code",
      "source": [
        "import numpy as np\n",
        "from keras.datasets import mnist\n",
        "\n",
        "# Load the MNIST dataset\n",
        "(X_train, y_train), (X_test, y_test) = mnist.load_data()\n",
        "\n",
        "# Select images of digit '2'\n",
        "X = X_train[y_train == 2][:100].reshape(-1, 28 * 28)  # Reshape to (100, 784)\n",
        "\n",
        "# Center the dataset around its mean\n",
        "X_prime = X - X.mean(axis=0)\n",
        "\n",
        "# Compute the covariance matrix C\n",
        "C = np.cov(X_prime, rowvar=False)\n",
        "\n",
        "# Get the number of features (d)\n",
        "d = C.shape[0]\n",
        "\n",
        "# Compute the sum of squares of the covariance matrix\n",
        "sum_of_squares = np.sum(C**2)\n",
        "\n",
        "# Calculate the final result\n",
        "result = (1 / (d**2)) * np.sqrt(sum_of_squares)\n",
        "\n",
        "# Print the result rounded to two decimal places\n",
        "print(f\"{result:.2f}\")\n"
      ],
      "metadata": {
        "colab": {
          "base_uri": "https://localhost:8080/"
        },
        "id": "BHBpx8NPLUl4",
        "outputId": "df201fd6-a234-4d8e-d64e-ed03e30d1a83"
      },
      "execution_count": 46,
      "outputs": [
        {
          "output_type": "stream",
          "name": "stdout",
          "text": [
            "1.38\n"
          ]
        }
      ]
    },
    {
      "cell_type": "code",
      "source": [
        "import numpy as np\n",
        "from keras.datasets import mnist\n",
        "\n",
        "# Load the MNIST dataset\n",
        "(X_train, y_train), (X_test, y_test) = mnist.load_data()\n",
        "\n",
        "# Select images of digit '2'\n",
        "X = X_train[y_train == 2][:100].reshape(-1, 28 * 28)  # Reshape to (100, 784)\n",
        "\n",
        "# Center the dataset around its mean\n",
        "X_mean = X.mean(axis=0)\n",
        "X_prime = X - X_mean  # Center the data\n",
        "\n",
        "# Compute the covariance matrix C\n",
        "C = np.cov(X_prime, rowvar=False)  # C should be of shape (d, d)\n",
        "\n",
        "# Get the number of features (d)\n",
        "d = C.shape[0]\n",
        "\n",
        "# Compute the sum of squares of the covariance matrix\n",
        "sum_of_squares = np.sum(C**2)  # Sum of squares of all elements in C\n",
        "\n",
        "# Calculate the final result\n",
        "result = (1 / (d**2)) * np.sqrt(sum_of_squares)\n",
        "\n",
        "# Print the result rounded to two decimal places\n",
        "print(f\"{result:.3f}\")\n"
      ],
      "metadata": {
        "colab": {
          "base_uri": "https://localhost:8080/"
        },
        "id": "MOpth807Ldr_",
        "outputId": "c5db1efc-f784-4412-bd0d-dfa229cbb3c8"
      },
      "execution_count": 49,
      "outputs": [
        {
          "output_type": "stream",
          "name": "stdout",
          "text": [
            "1.379\n"
          ]
        }
      ]
    },
    {
      "cell_type": "code",
      "source": [
        "print(\"Covariance Matrix:\\n\", C)\n",
        "print(\"Shape of Covariance Matrix:\", C.shape)\n"
      ],
      "metadata": {
        "colab": {
          "base_uri": "https://localhost:8080/"
        },
        "id": "K36GJB5zLg1s",
        "outputId": "0c4f88a4-427b-43e9-e4ad-6aa1154bf2b2"
      },
      "execution_count": 48,
      "outputs": [
        {
          "output_type": "stream",
          "name": "stdout",
          "text": [
            "Covariance Matrix:\n",
            " [[0. 0. 0. ... 0. 0. 0.]\n",
            " [0. 0. 0. ... 0. 0. 0.]\n",
            " [0. 0. 0. ... 0. 0. 0.]\n",
            " ...\n",
            " [0. 0. 0. ... 0. 0. 0.]\n",
            " [0. 0. 0. ... 0. 0. 0.]\n",
            " [0. 0. 0. ... 0. 0. 0.]]\n",
            "Shape of Covariance Matrix: (784, 784)\n"
          ]
        }
      ]
    },
    {
      "cell_type": "markdown",
      "source": [
        "## Problem-6\n",
        "\n",
        "Compute the first and second principal components of the dataset, $\\mathbf{w}_1$ and $\\mathbf{w}_2$.\n",
        "\n",
        "<u>Conversion</u>\n",
        "\n",
        "Compute:\n",
        "$$\n",
        "\\mathbf{w} = \\mathbf{w}_1 + \\mathbf{w}_2\n",
        "$$\n",
        "\n",
        "Enter the following quantity as your answer correct to two decimal places:\n",
        "\n",
        "$$\n",
        "\\left| \\sum \\limits_{i = 1}^{d} w_i \\right|\n",
        "$$"
      ],
      "metadata": {
        "id": "FfJK8OiMr2mh"
      }
    },
    {
      "cell_type": "code",
      "source": [
        "import numpy as np\n",
        "from keras.datasets import mnist\n",
        "\n",
        "# Load the MNIST dataset\n",
        "(X_train, y_train), (X_test, y_test) = mnist.load_data()\n",
        "\n",
        "# Select images of digit '2'\n",
        "X = X_train[y_train == 2][:100].reshape(-1, 28 * 28)  # Reshape to (100, 784)\n",
        "\n",
        "# Center the dataset around its mean\n",
        "X_mean = X.mean(axis=0)\n",
        "X_prime = X - X_mean  # Center the data\n",
        "\n",
        "# Compute the covariance matrix C\n",
        "C = np.cov(X_prime, rowvar=False)  # C should be of shape (d, d)\n",
        "\n",
        "# Compute eigenvalues and eigenvectors\n",
        "eigvals, eigvecs = np.linalg.eigh(C)\n",
        "\n",
        "# Sort eigenvalues and eigenvectors in descending order\n",
        "sorted_indices = np.argsort(eigvals)[::-1]\n",
        "eigvals_sorted = eigvals[sorted_indices]\n",
        "eigvecs_sorted = eigvecs[:, sorted_indices]\n",
        "\n",
        "# Get the first two principal components\n",
        "w1 = eigvecs_sorted[:, 0]  # First principal component\n",
        "w2 = eigvecs_sorted[:, 1]  # Second principal component\n",
        "\n",
        "# Calculate the sum of the two principal components\n",
        "w_sum = w1 + w2\n",
        "\n",
        "# Compute the absolute value of the desired sum\n",
        "result = np.abs(np.sum(w_sum))\n",
        "\n",
        "# Print the result rounded to two decimal places\n",
        "print(f\"{result:.2f}\")\n"
      ],
      "metadata": {
        "colab": {
          "base_uri": "https://localhost:8080/"
        },
        "id": "b4UTEWILMExf",
        "outputId": "ee97daf1-dc70-41f9-ec9a-236b8f3c8860"
      },
      "execution_count": 50,
      "outputs": [
        {
          "output_type": "stream",
          "name": "stdout",
          "text": [
            "1.05\n"
          ]
        }
      ]
    },
    {
      "cell_type": "markdown",
      "source": [
        "## Problem-7\n",
        "\n",
        "Visualize the first principal component as an image."
      ],
      "metadata": {
        "id": "9CBt_pmj-5pl"
      }
    },
    {
      "cell_type": "code",
      "source": [
        "import numpy as np\n",
        "import matplotlib.pyplot as plt\n",
        "from keras.datasets import mnist\n",
        "\n",
        "# Load the MNIST dataset\n",
        "(X_train, y_train), (X_test, y_test) = mnist.load_data()\n",
        "\n",
        "# Select images of digit '2'\n",
        "X = X_train[y_train == 2][:100].reshape(-1, 28 * 28)  # Reshape to (100, 784)\n",
        "\n",
        "# Center the dataset around its mean\n",
        "X_prime = X - X.mean(axis=0)\n",
        "\n",
        "# Compute the covariance matrix C\n",
        "C = np.cov(X_prime, rowvar=False)\n",
        "\n",
        "# Compute eigenvalues and eigenvectors\n",
        "eigval, eigvec = np.linalg.eigh(C)\n",
        "\n",
        "# Sort the eigenvalues and eigenvectors in descending order\n",
        "sorted_indices = np.argsort(eigval)[::-1]\n",
        "w1 = eigvec[:, sorted_indices[0]]\n",
        "\n",
        "# Reshape the first principal component back to 28x28\n",
        "w1_image = w1.reshape(28, 28)\n",
        "\n",
        "# Visualize the first principal component\n",
        "plt.imshow(w1_image, cmap='gray')\n",
        "plt.title(\"First Principal Component\")\n",
        "plt.axis('off')  # Hide axis\n",
        "plt.show()\n",
        "\n"
      ],
      "metadata": {
        "id": "KXiJLyT7_N29",
        "colab": {
          "base_uri": "https://localhost:8080/",
          "height": 428
        },
        "outputId": "fbd92a12-f1b7-4c65-c250-aa494c059ff2"
      },
      "execution_count": 38,
      "outputs": [
        {
          "output_type": "display_data",
          "data": {
            "text/plain": [
              "<Figure size 640x480 with 1 Axes>"
            ],
            "image/png": "[encoded data removed]"
          },
          "metadata": {}
        }
      ]
    },
    {
      "cell_type": "markdown",
      "source": [
        "## Problem-8\n",
        "\n",
        "Find the smallest value of $k$ for which the first $k$ principal components capture at least $95\\%$ of the variance in the data."
      ],
      "metadata": {
        "id": "o37ie_mqxqhy"
      }
    },
    {
      "cell_type": "code",
      "source": [
        "import numpy as np\n",
        "from keras.datasets import mnist\n",
        "\n",
        "# Load the MNIST dataset\n",
        "(X_train, y_train), (X_test, y_test) = mnist.load_data()\n",
        "\n",
        "# Select images of digit '2'\n",
        "X = X_train[y_train == 2][:100].reshape(-1, 28 * 28)\n",
        "\n",
        "# Center the dataset around its mean\n",
        "X_prime = X - X.mean(axis=0)\n",
        "\n",
        "# Compute the covariance matrix C\n",
        "C = np.cov(X_prime, rowvar=False)\n",
        "\n",
        "# Compute eigenvalues\n",
        "eigval, _ = np.linalg.eigh(C)\n",
        "\n",
        "# Sort eigenvalues in descending order\n",
        "sorted_eigval = np.sort(eigval)[::-1]\n",
        "\n",
        "# Calculate total variance\n",
        "total_variance = np.sum(sorted_eigval)\n",
        "\n",
        "# Calculate cumulative variance\n",
        "cumulative_variance = np.cumsum(sorted_eigval)\n",
        "\n",
        "# Find the smallest k for which the cumulative variance is at least 95% of total variance\n",
        "k = np.searchsorted(cumulative_variance, 0.95 * total_variance) + 1\n",
        "\n",
        "# Print the result\n",
        "print(f\"The smallest value of k to capture at least 95% of the variance: {k}\")\n"
      ],
      "metadata": {
        "id": "_JiPpEwCyvQK",
        "colab": {
          "base_uri": "https://localhost:8080/"
        },
        "outputId": "bebeb99a-1d5a-4b66-8c5a-65a352ab0d3d"
      },
      "execution_count": 39,
      "outputs": [
        {
          "output_type": "stream",
          "name": "stdout",
          "text": [
            "The smallest value of k to capture at least 95% of the variance: 53\n"
          ]
        }
      ]
    },
    {
      "cell_type": "markdown",
      "source": [
        "## Problem-9\n",
        "\n",
        "Given a `test_image`, visualize the proxies  by reconstructing it using the top $k$ principal components. Consider four values of $k$; values of $k$ for which the top-$k$ principal components explain:\n",
        "\n",
        "- 20% of the variance\n",
        "- 50% of the variance\n",
        "- 80% of the variance\n",
        "- 95% of the variance\n",
        "\n"
      ],
      "metadata": {
        "id": "5raTmu_s0Gpq"
      }
    },
    {
      "cell_type": "code",
      "source": [
        "import numpy as np\n",
        "import matplotlib.pyplot as plt\n",
        "from keras.datasets import mnist\n",
        "\n",
        "# Load the MNIST dataset\n",
        "(X_train, y_train), (X_test, y_test) = mnist.load_data()\n",
        "\n",
        "# Select images of digit '2' for training\n",
        "X_train_digit_2 = X_train[y_train == 2][:100].reshape(-1, 28 * 28)\n",
        "\n",
        "# Center the dataset around its mean\n",
        "X_prime = X_train_digit_2 - X_train_digit_2.mean(axis=0)\n",
        "\n",
        "# Compute the covariance matrix C\n",
        "C = np.cov(X_prime, rowvar=False)\n",
        "\n",
        "# Compute eigenvalues and eigenvectors\n",
        "eigval, eigvec = np.linalg.eigh(C)\n",
        "\n",
        "# Sort the eigenvalues and eigenvectors in descending order\n",
        "sorted_indices = np.argsort(eigval)[::-1]\n",
        "sorted_eigval = eigval[sorted_indices]\n",
        "sorted_eigvec = eigvec[:, sorted_indices]\n",
        "\n",
        "# Calculate total variance\n",
        "total_variance = np.sum(sorted_eigval)\n",
        "\n",
        "# Calculate cumulative variance\n",
        "cumulative_variance = np.cumsum(sorted_eigval)\n",
        "\n",
        "# Define the variance thresholds\n",
        "thresholds = [0.20, 0.50, 0.80, 0.95]\n",
        "k_values = [np.searchsorted(cumulative_variance, thresh * total_variance) + 1 for thresh in thresholds]\n",
        "\n",
        "# Select a test image\n",
        "test_image_index = 0  # You can change this index to visualize different test images\n",
        "test_image = X_test[y_test == 2][test_image_index].reshape(28 * 28)\n",
        "test_image_centered = test_image - X_train_digit_2.mean(axis=0)\n",
        "\n",
        "# Visualization setup\n",
        "plt.figure(figsize=(20, 5))\n",
        "\n",
        "# Plot the original test image\n",
        "plt.subplot(1, 5, 1)\n",
        "plt.imshow(test_image.reshape(28, 28), cmap='gray')\n",
        "plt.title(\"Original Test Image\")\n",
        "plt.axis('off')\n",
        "\n",
        "# Reconstruct and visualize the image using the top k principal components\n",
        "for idx, k in enumerate(k_values):\n",
        "    w_k = sorted_eigvec[:, :k]\n",
        "    coeff = w_k.T @ test_image_centered  # Project the test image\n",
        "    recon_image = w_k @ coeff  # Reconstruct the image\n",
        "\n",
        "    plt.subplot(1, 5, idx + 2)\n",
        "    plt.imshow(recon_image.reshape(28, 28), cmap='gray')\n",
        "    plt.title(f\"k = {k} (Variance = {thresholds[idx]*100}%)\")\n",
        "    plt.axis('off')\n",
        "\n",
        "plt.show()\n"
      ],
      "metadata": {
        "id": "yrjf1Er24vLo",
        "colab": {
          "base_uri": "https://localhost:8080/",
          "height": 144
        },
        "outputId": "d924fb78-be0f-446b-918f-dd417f53bd19"
      },
      "execution_count": 40,
      "outputs": [
        {
          "output_type": "display_data",
          "data": {
            "text/plain": [
              "<Figure size 2000x500 with 5 Axes>"
            ],
            "image/png": "[encoded data removed]"
          },
          "metadata": {}
        }
      ]
    }
  ]
}